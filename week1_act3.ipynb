{
  "nbformat": 4,
  "nbformat_minor": 0,
  "metadata": {
    "colab": {
      "provenance": [],
      "authorship_tag": "ABX9TyMvv2lPiERLy1vs/fwN1g1v",
      "include_colab_link": true
    },
    "kernelspec": {
      "name": "python3",
      "display_name": "Python 3"
    },
    "language_info": {
      "name": "python"
    }
  },
  "cells": [
    {
      "cell_type": "markdown",
      "metadata": {
        "id": "view-in-github",
        "colab_type": "text"
      },
      "source": [
        "<a href=\"https://colab.research.google.com/github/Kyokcha/msc_ap_exercises/blob/main/week1_act3.ipynb\" target=\"_parent\"><img src=\"https://colab.research.google.com/assets/colab-badge.svg\" alt=\"Open In Colab\"/></a>"
      ]
    },
    {
      "cell_type": "markdown",
      "source": [
        "## Week 1, Activity 3, Exercise 1"
      ],
      "metadata": {
        "id": "8xDqkwtcQJwp"
      }
    },
    {
      "cell_type": "code",
      "execution_count": 1,
      "metadata": {
        "colab": {
          "base_uri": "https://localhost:8080/"
        },
        "id": "YBghuyFrPsUl",
        "outputId": "edb53067-7a2e-40a4-b79b-e8fb4f7db09e"
      },
      "outputs": [
        {
          "output_type": "stream",
          "name": "stdout",
          "text": [
            "Enter an integer for the times table (or type '0' to exit): 4\n",
            "\n",
            "The even times table for 4 is:\n",
            "2   times 4   is 8    \n",
            "4   times 4   is 16   \n",
            "6   times 4   is 24   \n",
            "8   times 4   is 32   \n",
            "10  times 4   is 40   \n",
            "12  times 4   is 48   \n",
            "14  times 4   is 56   \n",
            "16  times 4   is 64   \n",
            "18  times 4   is 72   \n",
            "20  times 4   is 80   \n",
            "Enter an integer for the times table (or type '0' to exit): 0\n",
            "Exiting the program. Goodbye!\n"
          ]
        }
      ],
      "source": [
        "# Function to print the times table of the value entered in increments of 2 (even times table)\n",
        "def print_even_times_table(number):\n",
        "    print(f\"\\nThe even times table for {number} is:\")\n",
        "    for i in range(2, 21, 2):  # Start at 2, go up to 20 in steps of 2\n",
        "        result = i * number\n",
        "        print(f\"{i:<3} times {number:<3} is {result:<5}\")\n",
        "\n",
        "# Obtain and validate the user input until user exits the programme\n",
        "while True:\n",
        "    try:\n",
        "        user_input = int(input(\"Enter an integer for the times table (or type '0' to exit): \"))\n",
        "        if user_input == 0:\n",
        "            print(\"Exiting the program. Goodbye!\")\n",
        "            break\n",
        "        print_even_times_table(user_input)\n",
        "    except ValueError:\n",
        "        print(\"Please enter a valid integer.\")"
      ]
    },
    {
      "cell_type": "markdown",
      "source": [
        "## Week 1, Activity 3, Exercise 2"
      ],
      "metadata": {
        "id": "CAANtH62QRbI"
      }
    },
    {
      "cell_type": "code",
      "source": [
        "# Exercise two\n",
        "# In the sample code given for 'Iteration' in 1.1, there is a program for printing out a left-sided triangle of stars.\n",
        "\n",
        "# Adapt the code to create a right-sided triangle.\n",
        "# Adapt the code to output a diamond.\n",
        "# Write a menu system so the user can choose the left or right-sided triangle, or diamond.\n",
        "# Enable the program to take user input for the symbol used to generate the pattern and dictate the size of the pattern.\n",
        "# The output from the program should look like this:\n",
        "\n",
        "#                                                 *\n",
        "#       *                      *                 ***\n",
        "#       **                    **                *****\n",
        "#       ***                  ***                 ***\n",
        "#       ****                ****                  *\n",
        "#   Left-sided           Right-sided           Diamond\n",
        "\n",
        "#5. Using nested for loops to generate a left handed triangle\n",
        "numStars = 4 ;\n",
        "spaces = numStars - 1;\n",
        "\n",
        "\n",
        "for i in range(1, numStars+1):\n",
        "    for j in range(1, i+1):\n",
        "        print(\"*\", end=\"\")\n",
        "    print()\n",
        "\n",
        "# Right sided triangle\n",
        "for i in range(1, numStars + 1):\n",
        "    # Print leading spaces\n",
        "    print(\" \" * (spaces), end=\"\")\n",
        "    # Print asterisks\n",
        "    print(\"*\" * i)\n",
        "    spaces -= 1\n",
        "\n",
        "# diamond (requires two loops for top half and bottom half)\n",
        "max_stars = 5\n",
        "\n",
        "# Top half of the diamond\n",
        "for i in range(1, max_stars + 1, 2):\n",
        "    spaces = (max_stars - i) // 2\n",
        "    print(\" \" * spaces + \"*\" * i)\n",
        "\n",
        "# Bottom half of the diamond\n",
        "for i in range(max_stars - 2, 0, -2):\n",
        "    spaces = (max_stars - i) // 2\n",
        "    print(\" \" * spaces + \"*\" * i)\n"
      ],
      "metadata": {
        "colab": {
          "base_uri": "https://localhost:8080/"
        },
        "id": "yDJGyE5xQWoW",
        "outputId": "7f276d5b-1e4b-4512-899b-e4f8a590cd04"
      },
      "execution_count": null,
      "outputs": [
        {
          "output_type": "stream",
          "name": "stdout",
          "text": [
            "*\n",
            "**\n",
            "***\n",
            "****\n",
            "   *\n",
            "  **\n",
            " ***\n",
            "****\n",
            "  *\n",
            " ***\n",
            "*****\n",
            " ***\n",
            "  *\n"
          ]
        }
      ]
    },
    {
      "cell_type": "markdown",
      "source": [
        "## Week 1, Activity 3, Exercise 3"
      ],
      "metadata": {
        "id": "9S29M5ghQeKU"
      }
    },
    {
      "cell_type": "code",
      "source": [
        "# Write a program that outputs a calendar, given two values inputted by the user. If the user inputs the values of 30 and 7,\n",
        "# the following structure will be produced, where 30 generates the number of days in the month and 7 (Sunday) indicates which\n",
        "# day of the week the calendar starts on. The user should only be able to input a valid range of numbers, and regardless of\n",
        "# the values entered the calendar should always output 7 lines (even if some of them are blank).\n",
        "\n",
        "#   M   T   W  Th   F   S  Su\n",
        "#                           1\n",
        "#   2   3   4   5   6   7   8\n",
        "#   9  10  11  12  13  14  15\n",
        "#  16  17  18  19  20  21  22\n",
        "#  23  24  25  26  27  28  29\n",
        "#  30\n",
        "\n",
        "# Function to create, format and print the calendar specified by the user:\n",
        "def print_month_calender(days_in_month, start_day):\n",
        "    # Weekday headers\n",
        "    headers = [\"Mo\", \"Tu\", \"We\", \"Th\", \"Fr\", \"Sa\", \"Su\"]\n",
        "    print(\" \".join(headers))\n",
        "\n",
        "    # Adjust start_day to zero-indexed for alignment\n",
        "    start_day_index = start_day - 1  # Convert to zero-indexed\n",
        "\n",
        "    # Initialize calendar rows with spaces for days before start_day\n",
        "    calendar = [\"   \"] * start_day_index  # Add initial spaces\n",
        "    calendar += [f\"{day:>2} \" for day in range(1, days_in_month + 1)] # Create dynamic list and append to calendar\n",
        "\n",
        "    # Ensure we have 7 rows by padding with empty spaces at the end if necessary\n",
        "    while len(calendar) < 7 * 7:\n",
        "        calendar.append(\"   \")\n",
        "\n",
        "    # Print each week (7 days per line)\n",
        "    for week in range(7):  # Always display 7 rows\n",
        "        week_str = \"\".join(calendar[week * 7:(week + 1) * 7])\n",
        "        print(week_str)\n",
        "\n",
        "# Function to get and validate user input:\n",
        "def get_user_input():\n",
        "\n",
        "    while True:\n",
        "        try:\n",
        "            days_in_month = int(input(\"Please enter the number of days in the month (28, 29, 30 or 31): \"))\n",
        "            if 28 <= days_in_month <= 31:\n",
        "                break\n",
        "            else:\n",
        "                print(\"Please enter a valid number of days in the month, 28, 29, 30 or 31.\")\n",
        "        except ValueError:\n",
        "            print(\"Response must be a number.\")\n",
        "\n",
        "    while True:\n",
        "        try:\n",
        "            start_day = int(input(\"Please enter the number of the day of the week the month starts on, e.g. 1 for Monday, 7 for Sunday: \"))\n",
        "            if 1 <= start_day <= 7:\n",
        "                break\n",
        "            else:\n",
        "                print(\"Please enter a valid number of a day of the week: 1 to 7 inclusive.\")\n",
        "        except ValueError:\n",
        "            print(\"Response must be a number.\")\n",
        "\n",
        "    return days_in_month, start_day\n",
        "\n",
        "\n",
        "# Main programme:\n",
        "days_in_month, start_day = get_user_input()\n",
        "print_month_calender(days_in_month, start_day)\n"
      ],
      "metadata": {
        "colab": {
          "base_uri": "https://localhost:8080/"
        },
        "id": "UHYn-HP6Qibx",
        "outputId": "0e543907-a6eb-4ea8-949a-8b7966d7d411"
      },
      "execution_count": null,
      "outputs": [
        {
          "output_type": "stream",
          "name": "stdout",
          "text": [
            "Please enter the number of days in the month (28, 29, 30 or 31): 31\n",
            "Please enter the number of the day of the week the month starts on, e.g. 1 for Monday, 7 for Sunday: 2\n",
            "Mo Tu We Th Fr Sa Su\n",
            "    1  2  3  4  5  6 \n",
            " 7  8  9 10 11 12 13 \n",
            "14 15 16 17 18 19 20 \n",
            "21 22 23 24 25 26 27 \n",
            "28 29 30 31          \n",
            "                     \n",
            "                     \n"
          ]
        }
      ]
    }
  ]
}